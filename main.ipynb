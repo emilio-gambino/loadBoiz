{
 "cells": [
  {
   "cell_type": "code",
   "execution_count": 40,
   "id": "initial_id",
   "metadata": {
    "collapsed": true,
    "ExecuteTime": {
     "end_time": "2023-11-18T14:59:26.515183819Z",
     "start_time": "2023-11-18T14:59:26.472632720Z"
    }
   },
   "outputs": [],
   "source": [
    "import sys\n",
    "import os\n",
    "import time\n",
    "import numpy as np\n",
    "from psutil import virtual_memory\n",
    "import multiprocessing\n",
    "import subprocess\n",
    "from scipy import stats"
   ]
  },
  {
   "cell_type": "markdown",
   "source": [
    "### Project setup :\n",
    "You should try to set it up without the \"capture\" flag to see the output if error."
   ],
   "metadata": {
    "collapsed": false
   },
   "id": "8fbde6116f5c932d"
  },
  {
   "cell_type": "code",
   "execution_count": 15,
   "outputs": [],
   "source": [
    "%%capture\n",
    "!./clean.sh > /dev/null\n",
    "!cd harness & &./build.sh & & cd..  # Build harness\n",
    "!cd masstree & &./build.sh & & cd..  # Build masstree\n",
    "#!cd silo && ./build.sh && cd .. # Build silo\n",
    "#!cd shore && ./build.sh && cd .. # Build shore"
   ],
   "metadata": {
    "collapsed": false,
    "ExecuteTime": {
     "end_time": "2023-11-18T14:07:58.686771774Z",
     "start_time": "2023-11-18T14:07:46.859516751Z"
    }
   },
   "id": "889233f808fad895"
  },
  {
   "cell_type": "code",
   "execution_count": null,
   "outputs": [],
   "source": [
    "def parse_latencies():\n",
    "    pass"
   ],
   "metadata": {
    "collapsed": false
   },
   "id": "ba27a50167bd47bd"
  },
  {
   "cell_type": "code",
   "execution_count": 19,
   "outputs": [],
   "source": [
    "configurations = ['integrated', 'loopback', 'networked']\n",
    "\n",
    "NTHREADS = 1\n",
    "WARMUPREQS = 14000\n",
    "TBENCH_MINSLEEPNS = 10000\n",
    "MAXREQS = 1000000\n",
    "\n",
    "# Load is the number of query/second\n",
    "min_qps = 1000\n",
    "max_qps = 10000\n",
    "steps = 1\n",
    "\n",
    "workload = np.linspace(min_qps, max_qps, steps, dtype=int)"
   ],
   "metadata": {
    "collapsed": false,
    "ExecuteTime": {
     "end_time": "2023-11-18T14:46:56.003770574Z",
     "start_time": "2023-11-18T14:46:55.998286602Z"
    }
   },
   "id": "241e097e02d00cc4"
  },
  {
   "cell_type": "code",
   "execution_count": 43,
   "outputs": [
    {
     "name": "stdout",
     "output_type": "stream",
     "text": [
      "12 cores and 15 memory\n",
      "Run 1, QPS = 1000\n"
     ]
    },
    {
     "name": "stderr",
     "output_type": "stream",
     "text": [
      "sudo: a terminal is required to read the password; either use the -S option to read from standard input or configure an askpass helper\n",
      "sudo: a password is required\n",
      "sudo: a terminal is required to read the password; either use the -S option to read from standard input or configure an askpass helper\n",
      "sudo: a password is required\n",
      "sudo: a terminal is required to read the password; either use the -S option to read from standard input or configure an askpass helper\n",
      "sudo: a password is required\n",
      "sudo: a terminal is required to read the password; either use the -S option to read from standard input or configure an askpass helper\n",
      "sudo: a password is required\n",
      "sudo: a terminal is required to read the password; either use the -S option to read from standard input or configure an askpass helper\n",
      "sudo: a password is required\n",
      "sudo: a terminal is required to read the password; either use the -S option to read from standard input or configure an askpass helper\n",
      "sudo: a password is required\n",
      "sudo: a terminal is required to read the password; either use the -S option to read from standard input or configure an askpass helper\n",
      "sudo: a password is required\n",
      "sudo: a terminal is required to read the password; either use the -S option to read from standard input or configure an askpass helper\n",
      "sudo: a password is required\n",
      "sudo: a terminal is required to read the password; either use the -S option to read from standard input or configure an askpass helper\n",
      "sudo: a password is required\n",
      "sudo: a terminal is required to read the password; either use the -S option to read from standard input or configure an askpass helper\n",
      "sudo: a password is required\n",
      "sudo: a terminal is required to read the password; either use the -S option to read from standard input or configure an askpass helper\n",
      "sudo: a password is required\n",
      "sudo: a terminal is required to read the password; either use the -S option to read from standard input or configure an askpass helper\n",
      "sudo: a password is required\n",
      "1/1 mycsba/masstree\n",
      "0: now getting\n"
     ]
    },
    {
     "ename": "KeyboardInterrupt",
     "evalue": "",
     "output_type": "error",
     "traceback": [
      "\u001B[0;31m---------------------------------------------------------------------------\u001B[0m",
      "\u001B[0;31mKeyboardInterrupt\u001B[0m                         Traceback (most recent call last)",
      "Cell \u001B[0;32mIn[43], line 23\u001B[0m\n\u001B[1;32m     18\u001B[0m \u001B[38;5;66;03m#hile ctr >= 1:\u001B[39;00m\n\u001B[1;32m     19\u001B[0m \u001B[38;5;66;03m#print(ctr, \"cores...\")\u001B[39;00m\n\u001B[1;32m     21\u001B[0m command \u001B[38;5;241m=\u001B[39m \u001B[38;5;124mf\u001B[39m\u001B[38;5;124m'\u001B[39m\u001B[38;5;124mcd masstree && TBENCH_QPS=\u001B[39m\u001B[38;5;132;01m{\u001B[39;00mload\u001B[38;5;132;01m}\u001B[39;00m\u001B[38;5;124m TBENCH_MAXREQS=\u001B[39m\u001B[38;5;132;01m{\u001B[39;00mMAXREQS\u001B[38;5;132;01m}\u001B[39;00m\u001B[38;5;124m TBENCH_WARMUPREQS=\u001B[39m\u001B[38;5;132;01m{\u001B[39;00mWARMUPREQS\u001B[38;5;132;01m}\u001B[39;00m\u001B[38;5;124m \u001B[39m\u001B[38;5;124m'\u001B[39m \\\n\u001B[1;32m     22\u001B[0m           \u001B[38;5;124mf\u001B[39m\u001B[38;5;124m'\u001B[39m\u001B[38;5;124mTBENCH_MINSLEEPNS=\u001B[39m\u001B[38;5;132;01m{\u001B[39;00mTBENCH_MINSLEEPNS\u001B[38;5;132;01m}\u001B[39;00m\u001B[38;5;124m ./mttest_integrated -j\u001B[39m\u001B[38;5;132;01m{\u001B[39;00mNTHREADS\u001B[38;5;132;01m}\u001B[39;00m\u001B[38;5;124m mycsba masstree > masstree.txt\u001B[39m\u001B[38;5;124m'\u001B[39m\n\u001B[0;32m---> 23\u001B[0m \u001B[43msubprocess\u001B[49m\u001B[38;5;241;43m.\u001B[39;49m\u001B[43mrun\u001B[49m\u001B[43m(\u001B[49m\u001B[43mcommand\u001B[49m\u001B[43m,\u001B[49m\u001B[43m \u001B[49m\u001B[43mshell\u001B[49m\u001B[38;5;241;43m=\u001B[39;49m\u001B[38;5;28;43;01mTrue\u001B[39;49;00m\u001B[43m)\u001B[49m\n\u001B[1;32m     24\u001B[0m \u001B[38;5;28mprint\u001B[39m(\u001B[38;5;124m\"\u001B[39m\u001B[38;5;124mDone\u001B[39m\u001B[38;5;124m\"\u001B[39m)\n\u001B[1;32m     26\u001B[0m \u001B[38;5;66;03m# TODO print latencies\u001B[39;00m\n\u001B[1;32m     27\u001B[0m \n\u001B[1;32m     28\u001B[0m \u001B[38;5;66;03m#os.system(coreOffStatements[ctr - 1])\u001B[39;00m\n\u001B[0;32m   (...)\u001B[0m\n\u001B[1;32m     38\u001B[0m \u001B[38;5;66;03m# 2. Parse latencies\u001B[39;00m\n\u001B[1;32m     39\u001B[0m \u001B[38;5;66;03m# 3. Plot latencies\u001B[39;00m\n",
      "File \u001B[0;32m/usr/lib/python3.10/subprocess.py:505\u001B[0m, in \u001B[0;36mrun\u001B[0;34m(input, capture_output, timeout, check, *popenargs, **kwargs)\u001B[0m\n\u001B[1;32m    503\u001B[0m \u001B[38;5;28;01mwith\u001B[39;00m Popen(\u001B[38;5;241m*\u001B[39mpopenargs, \u001B[38;5;241m*\u001B[39m\u001B[38;5;241m*\u001B[39mkwargs) \u001B[38;5;28;01mas\u001B[39;00m process:\n\u001B[1;32m    504\u001B[0m     \u001B[38;5;28;01mtry\u001B[39;00m:\n\u001B[0;32m--> 505\u001B[0m         stdout, stderr \u001B[38;5;241m=\u001B[39m \u001B[43mprocess\u001B[49m\u001B[38;5;241;43m.\u001B[39;49m\u001B[43mcommunicate\u001B[49m\u001B[43m(\u001B[49m\u001B[38;5;28;43minput\u001B[39;49m\u001B[43m,\u001B[49m\u001B[43m \u001B[49m\u001B[43mtimeout\u001B[49m\u001B[38;5;241;43m=\u001B[39;49m\u001B[43mtimeout\u001B[49m\u001B[43m)\u001B[49m\n\u001B[1;32m    506\u001B[0m     \u001B[38;5;28;01mexcept\u001B[39;00m TimeoutExpired \u001B[38;5;28;01mas\u001B[39;00m exc:\n\u001B[1;32m    507\u001B[0m         process\u001B[38;5;241m.\u001B[39mkill()\n",
      "File \u001B[0;32m/usr/lib/python3.10/subprocess.py:1146\u001B[0m, in \u001B[0;36mPopen.communicate\u001B[0;34m(self, input, timeout)\u001B[0m\n\u001B[1;32m   1144\u001B[0m         stderr \u001B[38;5;241m=\u001B[39m \u001B[38;5;28mself\u001B[39m\u001B[38;5;241m.\u001B[39mstderr\u001B[38;5;241m.\u001B[39mread()\n\u001B[1;32m   1145\u001B[0m         \u001B[38;5;28mself\u001B[39m\u001B[38;5;241m.\u001B[39mstderr\u001B[38;5;241m.\u001B[39mclose()\n\u001B[0;32m-> 1146\u001B[0m     \u001B[38;5;28;43mself\u001B[39;49m\u001B[38;5;241;43m.\u001B[39;49m\u001B[43mwait\u001B[49m\u001B[43m(\u001B[49m\u001B[43m)\u001B[49m\n\u001B[1;32m   1147\u001B[0m \u001B[38;5;28;01melse\u001B[39;00m:\n\u001B[1;32m   1148\u001B[0m     \u001B[38;5;28;01mif\u001B[39;00m timeout \u001B[38;5;129;01mis\u001B[39;00m \u001B[38;5;129;01mnot\u001B[39;00m \u001B[38;5;28;01mNone\u001B[39;00m:\n",
      "File \u001B[0;32m/usr/lib/python3.10/subprocess.py:1209\u001B[0m, in \u001B[0;36mPopen.wait\u001B[0;34m(self, timeout)\u001B[0m\n\u001B[1;32m   1207\u001B[0m     endtime \u001B[38;5;241m=\u001B[39m _time() \u001B[38;5;241m+\u001B[39m timeout\n\u001B[1;32m   1208\u001B[0m \u001B[38;5;28;01mtry\u001B[39;00m:\n\u001B[0;32m-> 1209\u001B[0m     \u001B[38;5;28;01mreturn\u001B[39;00m \u001B[38;5;28;43mself\u001B[39;49m\u001B[38;5;241;43m.\u001B[39;49m\u001B[43m_wait\u001B[49m\u001B[43m(\u001B[49m\u001B[43mtimeout\u001B[49m\u001B[38;5;241;43m=\u001B[39;49m\u001B[43mtimeout\u001B[49m\u001B[43m)\u001B[49m\n\u001B[1;32m   1210\u001B[0m \u001B[38;5;28;01mexcept\u001B[39;00m \u001B[38;5;167;01mKeyboardInterrupt\u001B[39;00m:\n\u001B[1;32m   1211\u001B[0m     \u001B[38;5;66;03m# https://bugs.python.org/issue25942\u001B[39;00m\n\u001B[1;32m   1212\u001B[0m     \u001B[38;5;66;03m# The first keyboard interrupt waits briefly for the child to\u001B[39;00m\n\u001B[1;32m   1213\u001B[0m     \u001B[38;5;66;03m# exit under the common assumption that it also received the ^C\u001B[39;00m\n\u001B[1;32m   1214\u001B[0m     \u001B[38;5;66;03m# generated SIGINT and will exit rapidly.\u001B[39;00m\n\u001B[1;32m   1215\u001B[0m     \u001B[38;5;28;01mif\u001B[39;00m timeout \u001B[38;5;129;01mis\u001B[39;00m \u001B[38;5;129;01mnot\u001B[39;00m \u001B[38;5;28;01mNone\u001B[39;00m:\n",
      "File \u001B[0;32m/usr/lib/python3.10/subprocess.py:1959\u001B[0m, in \u001B[0;36mPopen._wait\u001B[0;34m(self, timeout)\u001B[0m\n\u001B[1;32m   1957\u001B[0m \u001B[38;5;28;01mif\u001B[39;00m \u001B[38;5;28mself\u001B[39m\u001B[38;5;241m.\u001B[39mreturncode \u001B[38;5;129;01mis\u001B[39;00m \u001B[38;5;129;01mnot\u001B[39;00m \u001B[38;5;28;01mNone\u001B[39;00m:\n\u001B[1;32m   1958\u001B[0m     \u001B[38;5;28;01mbreak\u001B[39;00m  \u001B[38;5;66;03m# Another thread waited.\u001B[39;00m\n\u001B[0;32m-> 1959\u001B[0m (pid, sts) \u001B[38;5;241m=\u001B[39m \u001B[38;5;28;43mself\u001B[39;49m\u001B[38;5;241;43m.\u001B[39;49m\u001B[43m_try_wait\u001B[49m\u001B[43m(\u001B[49m\u001B[38;5;241;43m0\u001B[39;49m\u001B[43m)\u001B[49m\n\u001B[1;32m   1960\u001B[0m \u001B[38;5;66;03m# Check the pid and loop as waitpid has been known to\u001B[39;00m\n\u001B[1;32m   1961\u001B[0m \u001B[38;5;66;03m# return 0 even without WNOHANG in odd situations.\u001B[39;00m\n\u001B[1;32m   1962\u001B[0m \u001B[38;5;66;03m# http://bugs.python.org/issue14396.\u001B[39;00m\n\u001B[1;32m   1963\u001B[0m \u001B[38;5;28;01mif\u001B[39;00m pid \u001B[38;5;241m==\u001B[39m \u001B[38;5;28mself\u001B[39m\u001B[38;5;241m.\u001B[39mpid:\n",
      "File \u001B[0;32m/usr/lib/python3.10/subprocess.py:1917\u001B[0m, in \u001B[0;36mPopen._try_wait\u001B[0;34m(self, wait_flags)\u001B[0m\n\u001B[1;32m   1915\u001B[0m \u001B[38;5;250m\u001B[39m\u001B[38;5;124;03m\"\"\"All callers to this function MUST hold self._waitpid_lock.\"\"\"\u001B[39;00m\n\u001B[1;32m   1916\u001B[0m \u001B[38;5;28;01mtry\u001B[39;00m:\n\u001B[0;32m-> 1917\u001B[0m     (pid, sts) \u001B[38;5;241m=\u001B[39m \u001B[43mos\u001B[49m\u001B[38;5;241;43m.\u001B[39;49m\u001B[43mwaitpid\u001B[49m\u001B[43m(\u001B[49m\u001B[38;5;28;43mself\u001B[39;49m\u001B[38;5;241;43m.\u001B[39;49m\u001B[43mpid\u001B[49m\u001B[43m,\u001B[49m\u001B[43m \u001B[49m\u001B[43mwait_flags\u001B[49m\u001B[43m)\u001B[49m\n\u001B[1;32m   1918\u001B[0m \u001B[38;5;28;01mexcept\u001B[39;00m \u001B[38;5;167;01mChildProcessError\u001B[39;00m:\n\u001B[1;32m   1919\u001B[0m     \u001B[38;5;66;03m# This happens if SIGCLD is set to be ignored or waiting\u001B[39;00m\n\u001B[1;32m   1920\u001B[0m     \u001B[38;5;66;03m# for child processes has otherwise been disabled for our\u001B[39;00m\n\u001B[1;32m   1921\u001B[0m     \u001B[38;5;66;03m# process.  This child is dead, we can't get the status.\u001B[39;00m\n\u001B[1;32m   1922\u001B[0m     pid \u001B[38;5;241m=\u001B[39m \u001B[38;5;28mself\u001B[39m\u001B[38;5;241m.\u001B[39mpid\n",
      "\u001B[0;31mKeyboardInterrupt\u001B[0m: "
     ]
    }
   ],
   "source": [
    "# Masstree -\n",
    "mem = virtual_memory()\n",
    "ram = round(mem.total / 1024 ** 3)\n",
    "cpu = multiprocessing.cpu_count()\n",
    "\n",
    "coreOffStatements = [r\"echo 0 | sudo tee /sys/devices/system/cpu/cpu{}/online\".format(i) for i in range(cpu)]\n",
    "coreOnStatements = [r\"echo 1 | sudo tee /sys/devices/system/cpu/cpu{}/online\".format(i) for i in range(cpu)]\n",
    "\n",
    "print(\"{} cores and {} memory\".format(cpu, ram))\n",
    "\n",
    "for i, load in enumerate(workload):\n",
    "    print(f\"Run {i + 1}, QPS = {load}\")\n",
    "\n",
    "    #for e in coreOnStatements:\n",
    "    #    os.system(e)\n",
    "    #ctr = cpu\n",
    "\n",
    "    #while ctr >= 1:\n",
    "    #print(ctr, \"cores...\")\n",
    "\n",
    "    command = f'cd masstree && TBENCH_QPS={load} TBENCH_MAXREQS={MAXREQS} TBENCH_WARMUPREQS={WARMUPREQS} ' \\\n",
    "              f'TBENCH_MINSLEEPNS={TBENCH_MINSLEEPNS} ./mttest_integrated -j{NTHREADS} mycsba masstree > masstree.txt'\n",
    "    subprocess.run(command, shell=True)\n",
    "    print(\"Done\")\n",
    "\n",
    "    # TODO print latencies\n",
    "\n",
    "    #os.system(coreOffStatements[ctr - 1])\n",
    "    #os.system(coreOffStatements[ctr - 2])\n",
    "    #os.system(coreOffStatements[ctr - 3])\n",
    "    #os.system(coreOffStatements[ctr - 4])\n",
    "    #ctr -= 4\n",
    "\n",
    "    #for e in coreOnStatements:\n",
    "    #   os.system(e)\n",
    "\n",
    "    # 1. Run the workload\n",
    "    # 2. Parse latencies\n",
    "    # 3. Plot latencies\n",
    "\n"
   ],
   "metadata": {
    "collapsed": false,
    "ExecuteTime": {
     "end_time": "2023-11-18T15:05:14.480776274Z",
     "start_time": "2023-11-18T15:05:04.030046016Z"
    }
   },
   "id": "33465018bf6e1ab8"
  },
  {
   "cell_type": "code",
   "execution_count": null,
   "outputs": [],
   "source": [
    "import sys\n",
    "import os\n",
    "import time\n",
    "\n",
    "from psutil import virtual_memory\n",
    "import multiprocessing\n",
    "import numpy as np\n",
    "from scipy import stats\n",
    "\n",
    "paths = [r\"../masstree/lats.bin\"]  # , r\"../silo/lats.bin\"]\n",
    "executeStatement = r\"(cd ../{}/ ; sudo ./run.sh > {}.txt)\"\n",
    "coreOffStatements = [r\"echo 0 | sudo tee /sys/devices/system/cpu/cpu{}/online\".format(i) for i in range(cpu)]\n",
    "coreOnStatements = [r\"echo 1 | sudo tee /sys/devices/system/cpu/cpu{}/online\".format(i) for i in range(cpu)]\n",
    "\n",
    "\n",
    "class Lat(object):\n",
    "    def __init__(self, fileName):\n",
    "        f = open(fileName, 'rb')\n",
    "        a = np.fromfile(f, dtype=np.uint64)\n",
    "        self.reqTimes = a.reshape((a.shape[0] // 3, 3))\n",
    "        f.close()\n",
    "\n",
    "    def parseQueueTimes(self):\n",
    "        return self.reqTimes[:, 0]\n",
    "\n",
    "    def parseSvcTimes(self):\n",
    "        return self.reqTimes[:, 1]\n",
    "\n",
    "    def parseSojournTimes(self):\n",
    "        return self.reqTimes[:, 2]\n",
    "\n",
    "\n",
    "def getLatPct(latsFile):\n",
    "    assert os.path.exists(latsFile)\n",
    "\n",
    "    latsObj = Lat(latsFile)\n",
    "    temp_cpu = multiprocessing.cpu_count()\n",
    "    qTimes = [l / 1e6 for l in latsObj.parseQueueTimes()]\n",
    "    svcTimes = [l / 1e6 for l in latsObj.parseSvcTimes()]\n",
    "    sjrnTimes = [l / 1e6 for l in latsObj.parseSojournTimes()]\n",
    "    f = open('output/lats-{}-{}-{}.txt'.format(latsFile[3:-9], temp_cpu, ram), 'w')\n",
    "    f.write('%12s | %12s | %12s\\n\\n'\n",
    "            % ('QueueTimes', 'ServiceTimes', 'SojournTimes'))\n",
    "\n",
    "    for (q, svc, sjrn) in zip(qTimes, svcTimes, sjrnTimes):\n",
    "        f.write(\"%12s | %12s | %12s\\n\"\n",
    "                % ('%.3f' % q, '%.3f' % svc, '%.3f' % sjrn))\n",
    "    f.close()\n",
    "\n",
    "    f = open('output/{}-{}-{}.txt'.format(latsFile[3:-9], temp_cpu, ram), 'w')\n",
    "    for i in sjrnTimes:\n",
    "        f.write('%.3f\\n' % i)\n",
    "    f.close()\n",
    "\n",
    "    p95 = stats.scoreatpercentile(sjrnTimes, 95)\n",
    "    maxLat = max(sjrnTimes)\n",
    "    print(\"95th percentile latency %.3f ms | max latency %.3f ms\" % (p95, maxLat))\n",
    "\n",
    "\n",
    "def run():\n",
    "    print(\"Executing...\")\n",
    "    for e in coreOnStatements:\n",
    "        os.system(e)\n",
    "    ctr = cpu\n",
    "\n",
    "    params = sys.argv[1:]\n",
    "    params.sort()\n",
    "    applications = params[params.index('-e') + 1:]\n",
    "    for app in applications:\n",
    "        while ctr >= 1:\n",
    "            print(ctr, \"cores...\")\n",
    "            runStatement = executeStatement.format(\n",
    "                app, app + '-' + str(ctr) + '-' + str(ram))\n",
    "            print(runStatement)\n",
    "            time.sleep(15)\n",
    "            os.system(runStatement)\n",
    "            generate()\n",
    "            os.system(coreOffStatements[ctr - 1])\n",
    "            os.system(coreOffStatements[ctr - 2])\n",
    "            os.system(coreOffStatements[ctr - 3])\n",
    "            os.system(coreOffStatements[ctr - 4])\n",
    "            ctr -= 4\n",
    "\n",
    "    for e in coreOnStatements:\n",
    "        os.system(e)\n",
    "\n",
    "\n",
    "def generate():\n",
    "    print(\"Generating Output Files...\")\n",
    "    for p in paths:\n",
    "        print(p)\n",
    "        latsFile = p\n",
    "        getLatPct(latsFile)\n",
    "\n",
    "\n",
    "params = sys.argv[1:]  # -b build, -e execute run.sh, -o generate output\n",
    "params.sort()\n",
    "for parameter in params:\n",
    "    if parameter == '-e':\n",
    "        run()\n",
    "    if parameter == \"-o\":\n",
    "        generate()\n"
   ],
   "metadata": {
    "collapsed": false
   },
   "id": "740ff81df487b2f4"
  }
 ],
 "metadata": {
  "kernelspec": {
   "display_name": "Python 3",
   "language": "python",
   "name": "python3"
  },
  "language_info": {
   "codemirror_mode": {
    "name": "ipython",
    "version": 2
   },
   "file_extension": ".py",
   "mimetype": "text/x-python",
   "name": "python",
   "nbconvert_exporter": "python",
   "pygments_lexer": "ipython2",
   "version": "2.7.6"
  }
 },
 "nbformat": 4,
 "nbformat_minor": 5
}
